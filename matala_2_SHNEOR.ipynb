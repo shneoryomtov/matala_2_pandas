{
 "cells": [
  {
   "cell_type": "code",
   "execution_count": 1,
   "id": "1bbad459-b08a-4ba7-850f-1cfebe7d210f",
   "metadata": {},
   "outputs": [],
   "source": [
    "import pandas as pd\n",
    "import numpy as np\n",
    "import re\n",
    "from datetime import datetime, timedelta\n",
    "import numpy as np\n",
    "import pandas as pd\n",
    "import matplotlib.pyplot as plt\n",
    "import seaborn as sns\n",
    "import sklearn as sk\n",
    "from sklearn import tree\n",
    "from sklearn.ensemble import RandomForestRegressor\n",
    "from sklearn.tree import DecisionTreeRegressor\n",
    "from sklearn.model_selection import train_test_split\n",
    "from sklearn.metrics import mean_squared_error as mse"
   ]
  },
  {
   "cell_type": "markdown",
   "id": "36468019-6338-4d0c-8f76-30435f77e149",
   "metadata": {
    "tags": []
   },
   "source": [
    "## Reading Data"
   ]
  },
  {
   "cell_type": "code",
   "execution_count": 2,
   "id": "e1170db0-75c9-4935-a558-6a11d6251101",
   "metadata": {},
   "outputs": [
    {
     "name": "stderr",
     "output_type": "stream",
     "text": [
      "C:\\Users\\shneo\\AppData\\Local\\Temp\\ipykernel_13592\\1520503455.py:1: DtypeWarning: Columns (6) have mixed types. Specify dtype option on import or set low_memory=False.\n",
      "  data = pd.read_csv(\"C:\\\\Users\\\\shneo\\\\OneDrive\\\\exc_phyton\\\\matala2_cosmetics_2019-Nov_new.csv\")\n"
     ]
    }
   ],
   "source": [
    "data = pd.read_csv(\"C:\\\\Users\\\\shneo\\\\OneDrive\\\\exc_phyton\\\\matala2_cosmetics_2019-Nov_new.csv\")\n",
    "data.head(2)\n",
    "data = data[:1000000]"
   ]
  },
  {
   "cell_type": "markdown",
   "id": "bb85a36b-f1d6-4a53-b9f0-535ebf03ae80",
   "metadata": {
    "tags": []
   },
   "source": [
    "### Q1"
   ]
  },
  {
   "cell_type": "code",
   "execution_count": 3,
   "id": "4bf5fc58-4dc6-4972-b460-28bba10446c2",
   "metadata": {},
   "outputs": [],
   "source": [
    "data['event_time'] = pd.to_datetime(data.event_time)"
   ]
  },
  {
   "cell_type": "code",
   "execution_count": 4,
   "id": "b19604e4-01b9-4476-a89e-f4a8f62598d5",
   "metadata": {},
   "outputs": [],
   "source": [
    "# sort the data by ID and to_datetime\n",
    "data = data.sort_values(['event_time'])\n",
    "\n",
    "# compute the time difference between consecutive visits for each ID\n",
    "data['duration_to_next_event'] = data.groupby('user_session')['event_time'].diff()\n",
    "data['duration_to_next_event'] = data['duration_to_next_event'].fillna(pd.Timedelta(seconds=0))"
   ]
  },
  {
   "cell_type": "code",
   "execution_count": 5,
   "id": "7e4d028d-ac72-4ee7-93c2-d6ffad256e28",
   "metadata": {},
   "outputs": [
    {
     "data": {
      "text/html": [
       "<div>\n",
       "<style scoped>\n",
       "    .dataframe tbody tr th:only-of-type {\n",
       "        vertical-align: middle;\n",
       "    }\n",
       "\n",
       "    .dataframe tbody tr th {\n",
       "        vertical-align: top;\n",
       "    }\n",
       "\n",
       "    .dataframe thead th {\n",
       "        text-align: right;\n",
       "    }\n",
       "</style>\n",
       "<table border=\"1\" class=\"dataframe\">\n",
       "  <thead>\n",
       "    <tr style=\"text-align: right;\">\n",
       "      <th></th>\n",
       "      <th>event_time</th>\n",
       "      <th>event_type</th>\n",
       "      <th>product_id</th>\n",
       "      <th>category_id</th>\n",
       "      <th>category_code</th>\n",
       "      <th>brand</th>\n",
       "      <th>price</th>\n",
       "      <th>user_id</th>\n",
       "      <th>user_session</th>\n",
       "      <th>duration_to_next_event</th>\n",
       "    </tr>\n",
       "  </thead>\n",
       "  <tbody>\n",
       "    <tr>\n",
       "      <th>0</th>\n",
       "      <td>2019-11-01 00:00:02+00:00</td>\n",
       "      <td>view</td>\n",
       "      <td>5802432</td>\n",
       "      <td>1487580009286598681</td>\n",
       "      <td>NaN</td>\n",
       "      <td>NaN</td>\n",
       "      <td>0.32</td>\n",
       "      <td>562076640</td>\n",
       "      <td>09fafd6c-6c99-46b1-834f-33527f4de241</td>\n",
       "      <td>0 days</td>\n",
       "    </tr>\n",
       "    <tr>\n",
       "      <th>1</th>\n",
       "      <td>2019-11-01 00:00:09+00:00</td>\n",
       "      <td>cart</td>\n",
       "      <td>5844397</td>\n",
       "      <td>1487580006317032337</td>\n",
       "      <td>NaN</td>\n",
       "      <td>NaN</td>\n",
       "      <td>2.38</td>\n",
       "      <td>553329724</td>\n",
       "      <td>2067216c-31b5-455d-a1cc-af0575a34ffb</td>\n",
       "      <td>0 days</td>\n",
       "    </tr>\n",
       "  </tbody>\n",
       "</table>\n",
       "</div>"
      ],
      "text/plain": [
       "                 event_time event_type  product_id          category_id  \\\n",
       "0 2019-11-01 00:00:02+00:00       view     5802432  1487580009286598681   \n",
       "1 2019-11-01 00:00:09+00:00       cart     5844397  1487580006317032337   \n",
       "\n",
       "  category_code brand price    user_id                          user_session  \\\n",
       "0           NaN   NaN  0.32  562076640  09fafd6c-6c99-46b1-834f-33527f4de241   \n",
       "1           NaN   NaN  2.38  553329724  2067216c-31b5-455d-a1cc-af0575a34ffb   \n",
       "\n",
       "  duration_to_next_event  \n",
       "0                 0 days  \n",
       "1                 0 days  "
      ]
     },
     "execution_count": 5,
     "metadata": {},
     "output_type": "execute_result"
    }
   ],
   "source": [
    "data.head(2)"
   ]
  },
  {
   "cell_type": "markdown",
   "id": "e0e97985-fb94-41ff-9753-23e39a822828",
   "metadata": {
    "tags": []
   },
   "source": [
    "## Q2"
   ]
  },
  {
   "cell_type": "code",
   "execution_count": 6,
   "id": "e7722ed8-c7cd-44e4-80ac-69795d0273c1",
   "metadata": {},
   "outputs": [
    {
     "name": "stderr",
     "output_type": "stream",
     "text": [
      "C:\\Users\\shneo\\AppData\\Local\\Temp\\ipykernel_13592\\3719360307.py:9: FutureWarning: Not prepending group keys to the result index of transform-like apply. In the future, the group keys will be included in the index, regardless of whether the applied function returns a like-indexed object.\n",
      "To preserve the previous behavior, use\n",
      "\n",
      "\t>>> .groupby(..., group_keys=False)\n",
      "\n",
      "To adopt the future behavior and silence this warning, use \n",
      "\n",
      "\t>>> .groupby(..., group_keys=True)\n",
      "  data['funnel_number'] = data.groupby('user_id')['duration_to_next_event'].apply(lambda x: (x >= pd.Timedelta(days=5)).cumsum() + 1)\n"
     ]
    }
   ],
   "source": [
    "import pandas as pd\n",
    "\n",
    "\n",
    "# set funnel_number to 1 for the first visit of each user\n",
    "data['funnel_number'] = 1\n",
    "data.loc[data.groupby('user_id').head(1).index, 'funnel_number'] = 1\n",
    "\n",
    "# set funnel_number based on 5-day breaks between visits\n",
    "data['funnel_number'] = data.groupby('user_id')['duration_to_next_event'].apply(lambda x: (x >= pd.Timedelta(days=5)).cumsum() + 1)"
   ]
  },
  {
   "cell_type": "code",
   "execution_count": 7,
   "id": "77c6a074-bd8b-4376-bace-6756f63b33ff",
   "metadata": {},
   "outputs": [
    {
     "data": {
      "text/html": [
       "<div>\n",
       "<style scoped>\n",
       "    .dataframe tbody tr th:only-of-type {\n",
       "        vertical-align: middle;\n",
       "    }\n",
       "\n",
       "    .dataframe tbody tr th {\n",
       "        vertical-align: top;\n",
       "    }\n",
       "\n",
       "    .dataframe thead th {\n",
       "        text-align: right;\n",
       "    }\n",
       "</style>\n",
       "<table border=\"1\" class=\"dataframe\">\n",
       "  <thead>\n",
       "    <tr style=\"text-align: right;\">\n",
       "      <th></th>\n",
       "      <th>event_time</th>\n",
       "      <th>event_type</th>\n",
       "      <th>product_id</th>\n",
       "      <th>category_id</th>\n",
       "      <th>category_code</th>\n",
       "      <th>brand</th>\n",
       "      <th>price</th>\n",
       "      <th>user_id</th>\n",
       "      <th>user_session</th>\n",
       "      <th>duration_to_next_event</th>\n",
       "      <th>funnel_number</th>\n",
       "    </tr>\n",
       "  </thead>\n",
       "  <tbody>\n",
       "    <tr>\n",
       "      <th>724092</th>\n",
       "      <td>2019-11-06 14:03:28+00:00</td>\n",
       "      <td>view</td>\n",
       "      <td>5847872</td>\n",
       "      <td>1487580006317032337</td>\n",
       "      <td>NaN</td>\n",
       "      <td>NaN</td>\n",
       "      <td>7.94</td>\n",
       "      <td>421526217</td>\n",
       "      <td>7d1ec103-217e-48de-8861-ba3d486137e4</td>\n",
       "      <td>5 days 03:59:31</td>\n",
       "      <td>2</td>\n",
       "    </tr>\n",
       "    <tr>\n",
       "      <th>724367</th>\n",
       "      <td>2019-11-06 14:05:58+00:00</td>\n",
       "      <td>cart</td>\n",
       "      <td>5847870</td>\n",
       "      <td>1487580006317032337</td>\n",
       "      <td>NaN</td>\n",
       "      <td>NaN</td>\n",
       "      <td>1.9</td>\n",
       "      <td>421526217</td>\n",
       "      <td>7d1ec103-217e-48de-8861-ba3d486137e4</td>\n",
       "      <td>0 days 00:02:30</td>\n",
       "      <td>2</td>\n",
       "    </tr>\n",
       "    <tr>\n",
       "      <th>724530</th>\n",
       "      <td>2019-11-06 14:07:30+00:00</td>\n",
       "      <td>cart</td>\n",
       "      <td>5809912</td>\n",
       "      <td>1602943681873052386</td>\n",
       "      <td>NaN</td>\n",
       "      <td>grattol</td>\n",
       "      <td>5.24</td>\n",
       "      <td>421526217</td>\n",
       "      <td>7d1ec103-217e-48de-8861-ba3d486137e4</td>\n",
       "      <td>0 days 00:01:32</td>\n",
       "      <td>2</td>\n",
       "    </tr>\n",
       "  </tbody>\n",
       "</table>\n",
       "</div>"
      ],
      "text/plain": [
       "                      event_time event_type  product_id          category_id  \\\n",
       "724092 2019-11-06 14:03:28+00:00       view     5847872  1487580006317032337   \n",
       "724367 2019-11-06 14:05:58+00:00       cart     5847870  1487580006317032337   \n",
       "724530 2019-11-06 14:07:30+00:00       cart     5809912  1602943681873052386   \n",
       "\n",
       "       category_code    brand price    user_id  \\\n",
       "724092           NaN      NaN  7.94  421526217   \n",
       "724367           NaN      NaN   1.9  421526217   \n",
       "724530           NaN  grattol  5.24  421526217   \n",
       "\n",
       "                                user_session duration_to_next_event  \\\n",
       "724092  7d1ec103-217e-48de-8861-ba3d486137e4        5 days 03:59:31   \n",
       "724367  7d1ec103-217e-48de-8861-ba3d486137e4        0 days 00:02:30   \n",
       "724530  7d1ec103-217e-48de-8861-ba3d486137e4        0 days 00:01:32   \n",
       "\n",
       "        funnel_number  \n",
       "724092              2  \n",
       "724367              2  \n",
       "724530              2  "
      ]
     },
     "execution_count": 7,
     "metadata": {},
     "output_type": "execute_result"
    }
   ],
   "source": [
    "data[data['funnel_number']==2].head(3)"
   ]
  },
  {
   "cell_type": "code",
   "execution_count": 8,
   "id": "b2d1d019-8e64-4a23-a38a-663b82da805f",
   "metadata": {},
   "outputs": [
    {
     "data": {
      "text/html": [
       "<div>\n",
       "<style scoped>\n",
       "    .dataframe tbody tr th:only-of-type {\n",
       "        vertical-align: middle;\n",
       "    }\n",
       "\n",
       "    .dataframe tbody tr th {\n",
       "        vertical-align: top;\n",
       "    }\n",
       "\n",
       "    .dataframe thead th {\n",
       "        text-align: right;\n",
       "    }\n",
       "</style>\n",
       "<table border=\"1\" class=\"dataframe\">\n",
       "  <thead>\n",
       "    <tr style=\"text-align: right;\">\n",
       "      <th></th>\n",
       "      <th>event_time</th>\n",
       "      <th>event_type</th>\n",
       "      <th>product_id</th>\n",
       "      <th>category_id</th>\n",
       "      <th>category_code</th>\n",
       "      <th>brand</th>\n",
       "      <th>price</th>\n",
       "      <th>user_id</th>\n",
       "      <th>user_session</th>\n",
       "      <th>duration_to_next_event</th>\n",
       "      <th>funnel_number</th>\n",
       "    </tr>\n",
       "  </thead>\n",
       "  <tbody>\n",
       "    <tr>\n",
       "      <th>992576</th>\n",
       "      <td>2019-11-08 05:16:16+00:00</td>\n",
       "      <td>view</td>\n",
       "      <td>5684914</td>\n",
       "      <td>1487580013841613016</td>\n",
       "      <td>NaN</td>\n",
       "      <td>estel</td>\n",
       "      <td>5.79</td>\n",
       "      <td>490982149</td>\n",
       "      <td>a87edd4a-d5f4-456d-ba1a-06e083193e9a</td>\n",
       "      <td>6 days 07:10:47</td>\n",
       "      <td>4</td>\n",
       "    </tr>\n",
       "  </tbody>\n",
       "</table>\n",
       "</div>"
      ],
      "text/plain": [
       "                      event_time event_type  product_id          category_id  \\\n",
       "992576 2019-11-08 05:16:16+00:00       view     5684914  1487580013841613016   \n",
       "\n",
       "       category_code  brand price    user_id  \\\n",
       "992576           NaN  estel  5.79  490982149   \n",
       "\n",
       "                                user_session duration_to_next_event  \\\n",
       "992576  a87edd4a-d5f4-456d-ba1a-06e083193e9a        6 days 07:10:47   \n",
       "\n",
       "        funnel_number  \n",
       "992576              4  "
      ]
     },
     "execution_count": 8,
     "metadata": {},
     "output_type": "execute_result"
    }
   ],
   "source": [
    "data[data [\"funnel_number\"] == max(data.funnel_number)]"
   ]
  },
  {
   "cell_type": "markdown",
   "id": "dd72cf55-be7f-4f39-9683-e376ec99f11e",
   "metadata": {},
   "source": [
    "## Q3"
   ]
  },
  {
   "cell_type": "code",
   "execution_count": 24,
   "id": "5ef61e52-9721-4147-9630-b9c59a242f76",
   "metadata": {},
   "outputs": [],
   "source": [
    "# initialize index_in_funnel to 1 for all rows\n",
    "data['index_in_funnel'] = 1\n",
    "\n",
    "# set index_in_funnel to the visit number for each user and funnel\n",
    "data['index_in_funnel'] = data.sort_values(['user_id', 'event_time']).groupby(['user_session', 'funnel_number'])['index_in_funnel'].cumsum()"
   ]
  },
  {
   "cell_type": "markdown",
   "id": "e31ae259-4c91-45b1-a8d1-3f8dcc0b59dc",
   "metadata": {},
   "source": [
    "## Q4"
   ]
  },
  {
   "cell_type": "code",
   "execution_count": 11,
   "id": "06309685-004e-4411-be7f-4e65d8c19298",
   "metadata": {},
   "outputs": [],
   "source": [
    "import re\n",
    "\n",
    "def fix_price(input_price, pattern='\\d+\\.?\\d*'):\n",
    "    try:\n",
    "        input_price = float(input_price)\n",
    "    except:\n",
    "        try:\n",
    "            match = re.search(pattern, input_price)\n",
    "            return float(match.group())\n",
    "        except:\n",
    "            return None\n",
    "    return float(input_price)"
   ]
  },
  {
   "cell_type": "code",
   "execution_count": 28,
   "id": "914419a4-38c7-45e0-ba8b-231916d17d19",
   "metadata": {},
   "outputs": [],
   "source": [
    "data['price'] = data['price'].apply(fix_price)\n"
   ]
  },
  {
   "cell_type": "markdown",
   "id": "a263a73d-fb64-4c09-a88f-465e9f141159",
   "metadata": {},
   "source": [
    "## Q5"
   ]
  },
  {
   "cell_type": "code",
   "execution_count": 13,
   "id": "faef6db9-4e95-45b8-9fef-cd567c7c4893",
   "metadata": {},
   "outputs": [
    {
     "data": {
      "text/html": [
       "<div>\n",
       "<style scoped>\n",
       "    .dataframe tbody tr th:only-of-type {\n",
       "        vertical-align: middle;\n",
       "    }\n",
       "\n",
       "    .dataframe tbody tr th {\n",
       "        vertical-align: top;\n",
       "    }\n",
       "\n",
       "    .dataframe thead th {\n",
       "        text-align: right;\n",
       "    }\n",
       "</style>\n",
       "<table border=\"1\" class=\"dataframe\">\n",
       "  <thead>\n",
       "    <tr style=\"text-align: right;\">\n",
       "      <th></th>\n",
       "      <th>event_type</th>\n",
       "    </tr>\n",
       "    <tr>\n",
       "      <th>event_type</th>\n",
       "      <th></th>\n",
       "    </tr>\n",
       "  </thead>\n",
       "  <tbody>\n",
       "    <tr>\n",
       "      <th>cart</th>\n",
       "      <td>282941</td>\n",
       "    </tr>\n",
       "    <tr>\n",
       "      <th>purchase</th>\n",
       "      <td>66479</td>\n",
       "    </tr>\n",
       "    <tr>\n",
       "      <th>remove_from_cart</th>\n",
       "      <td>203126</td>\n",
       "    </tr>\n",
       "    <tr>\n",
       "      <th>view</th>\n",
       "      <td>447454</td>\n",
       "    </tr>\n",
       "  </tbody>\n",
       "</table>\n",
       "</div>"
      ],
      "text/plain": [
       "                  event_type\n",
       "event_type                  \n",
       "cart                  282941\n",
       "purchase               66479\n",
       "remove_from_cart      203126\n",
       "view                  447454"
      ]
     },
     "execution_count": 13,
     "metadata": {},
     "output_type": "execute_result"
    }
   ],
   "source": [
    "data.groupby('event_type')[[\"event_type\"]].count()"
   ]
  },
  {
   "cell_type": "code",
   "execution_count": 14,
   "id": "50559a47-56c0-4ac4-98d2-baba8c746f43",
   "metadata": {},
   "outputs": [
    {
     "data": {
      "text/plain": [
       "<Axes: xlabel='event_type', ylabel='count'>"
      ]
     },
     "execution_count": 14,
     "metadata": {},
     "output_type": "execute_result"
    },
    {
     "data": {
      "image/png": "[encoded data removed]",
      "text/plain": [
       "<Figure size 700x500 with 1 Axes>"
      ]
     },
     "metadata": {},
     "output_type": "display_data"
    }
   ],
   "source": [
    "plt.figure(figsize=(7,5)) \n",
    "sns.countplot(x=\"event_type\", data=data)"
   ]
  },
  {
   "cell_type": "markdown",
   "id": "d98eac5f-fbc3-4798-9328-4fa72900899e",
   "metadata": {},
   "source": [
    "## Q6"
   ]
  },
  {
   "cell_type": "code",
   "execution_count": 39,
   "id": "4f8f8f5c-5ee6-4272-9bf9-550d82d271e1",
   "metadata": {},
   "outputs": [
    {
     "data": {
      "text/html": [
       "<div>\n",
       "<style scoped>\n",
       "    .dataframe tbody tr th:only-of-type {\n",
       "        vertical-align: middle;\n",
       "    }\n",
       "\n",
       "    .dataframe tbody tr th {\n",
       "        vertical-align: top;\n",
       "    }\n",
       "\n",
       "    .dataframe thead th {\n",
       "        text-align: right;\n",
       "    }\n",
       "</style>\n",
       "<table border=\"1\" class=\"dataframe\">\n",
       "  <thead>\n",
       "    <tr style=\"text-align: right;\">\n",
       "      <th></th>\n",
       "      <th>user_id</th>\n",
       "      <th>user_session</th>\n",
       "      <th>funnel_number</th>\n",
       "      <th>index_in_funnel</th>\n",
       "      <th>event_type</th>\n",
       "      <th>duration_to_next_event</th>\n",
       "      <th>product_id</th>\n",
       "      <th>num_of_events</th>\n",
       "      <th>duration_per_session</th>\n",
       "    </tr>\n",
       "  </thead>\n",
       "  <tbody>\n",
       "    <tr>\n",
       "      <th>0</th>\n",
       "      <td>562076640</td>\n",
       "      <td>09fafd6c-6c99-46b1-834f-33527f4de241</td>\n",
       "      <td>1</td>\n",
       "      <td>1.0</td>\n",
       "      <td>view</td>\n",
       "      <td>0 days 00:00:00</td>\n",
       "      <td>5802432</td>\n",
       "      <td>8.0</td>\n",
       "      <td>0 days 00:05:00</td>\n",
       "    </tr>\n",
       "    <tr>\n",
       "      <th>1</th>\n",
       "      <td>553329724</td>\n",
       "      <td>2067216c-31b5-455d-a1cc-af0575a34ffb</td>\n",
       "      <td>1</td>\n",
       "      <td>1.0</td>\n",
       "      <td>cart</td>\n",
       "      <td>0 days 00:00:00</td>\n",
       "      <td>5844397</td>\n",
       "      <td>12.0</td>\n",
       "      <td>0 days 00:02:58</td>\n",
       "    </tr>\n",
       "    <tr>\n",
       "      <th>2</th>\n",
       "      <td>556138645</td>\n",
       "      <td>57ed222e-a54a-4907-9944-5a875c2d7f4f</td>\n",
       "      <td>1</td>\n",
       "      <td>1.0</td>\n",
       "      <td>view</td>\n",
       "      <td>0 days 00:00:00</td>\n",
       "      <td>5837166</td>\n",
       "      <td>20.0</td>\n",
       "      <td>0 days 00:24:17</td>\n",
       "    </tr>\n",
       "    <tr>\n",
       "      <th>3</th>\n",
       "      <td>564506666</td>\n",
       "      <td>186c1951-8052-4b37-adce-dd9644b1d5f7</td>\n",
       "      <td>1</td>\n",
       "      <td>1.0</td>\n",
       "      <td>cart</td>\n",
       "      <td>0 days 00:00:00</td>\n",
       "      <td>5876812</td>\n",
       "      <td>2.0</td>\n",
       "      <td>0 days 00:01:43</td>\n",
       "    </tr>\n",
       "    <tr>\n",
       "      <th>4</th>\n",
       "      <td>553329724</td>\n",
       "      <td>2067216c-31b5-455d-a1cc-af0575a34ffb</td>\n",
       "      <td>1</td>\n",
       "      <td>2.0</td>\n",
       "      <td>remove_from_cart</td>\n",
       "      <td>0 days 00:00:15</td>\n",
       "      <td>5826182</td>\n",
       "      <td>12.0</td>\n",
       "      <td>0 days 00:02:58</td>\n",
       "    </tr>\n",
       "  </tbody>\n",
       "</table>\n",
       "</div>"
      ],
      "text/plain": [
       "     user_id                          user_session  funnel_number  \\\n",
       "0  562076640  09fafd6c-6c99-46b1-834f-33527f4de241              1   \n",
       "1  553329724  2067216c-31b5-455d-a1cc-af0575a34ffb              1   \n",
       "2  556138645  57ed222e-a54a-4907-9944-5a875c2d7f4f              1   \n",
       "3  564506666  186c1951-8052-4b37-adce-dd9644b1d5f7              1   \n",
       "4  553329724  2067216c-31b5-455d-a1cc-af0575a34ffb              1   \n",
       "\n",
       "   index_in_funnel        event_type duration_to_next_event  product_id  \\\n",
       "0              1.0              view        0 days 00:00:00     5802432   \n",
       "1              1.0              cart        0 days 00:00:00     5844397   \n",
       "2              1.0              view        0 days 00:00:00     5837166   \n",
       "3              1.0              cart        0 days 00:00:00     5876812   \n",
       "4              2.0  remove_from_cart        0 days 00:00:15     5826182   \n",
       "\n",
       "   num_of_events duration_per_session  \n",
       "0            8.0      0 days 00:05:00  \n",
       "1           12.0      0 days 00:02:58  \n",
       "2           20.0      0 days 00:24:17  \n",
       "3            2.0      0 days 00:01:43  \n",
       "4           12.0      0 days 00:02:58  "
      ]
     },
     "execution_count": 39,
     "metadata": {},
     "output_type": "execute_result"
    }
   ],
   "source": [
    "sd = data[[\"user_id\",\"user_session\",\"funnel_number\",\"index_in_funnel\",\"event_type\",\"duration_to_next_event\",\"product_id\"]].copy()\n",
    "sd[\"num_of_events\"] = sd.groupby(\"user_session\")[[\"event_type\"]].transform('count')\n",
    "sd[\"duration_per_session\"] = sd.groupby(['funnel_number', 'user_session'])[[\"duration_to_next_event\"]].transform('sum')\n",
    "sd.head()"
   ]
  },
  {
   "cell_type": "code",
   "execution_count": 40,
   "id": "541f2e40-a664-48f2-a5c8-286c9fc634d0",
   "metadata": {},
   "outputs": [],
   "source": [
    "session_data = sd.groupby(['user_id', 'user_session']).apply(\n",
    "    lambda x: pd.Series({\n",
    "        'list_of_viewed': list(x.loc[x['event_type'] == 'view', 'product_id']),\n",
    "        'list_of_carted': list(x.loc[x['event_type'] == 'cart', 'product_id']),\n",
    "        'list_of_purchased': list(x.loc[x['event_type'] == 'purchase', 'product_id'])\n",
    "    })\n",
    ").reset_index()\n"
   ]
  },
  {
   "cell_type": "code",
   "execution_count": 41,
   "id": "6b3c3ee5-bde8-49fd-a4d9-a7d5c05bbf28",
   "metadata": {},
   "outputs": [
    {
     "name": "stdout",
     "output_type": "stream",
     "text": [
      "<class 'pandas.core.frame.DataFrame'>\n",
      "RangeIndex: 200780 entries, 0 to 200779\n",
      "Data columns (total 5 columns):\n",
      " #   Column             Non-Null Count   Dtype \n",
      "---  ------             --------------   ----- \n",
      " 0   user_id            200780 non-null  int64 \n",
      " 1   user_session       200780 non-null  object\n",
      " 2   list_of_viewed     200780 non-null  object\n",
      " 3   list_of_carted     200780 non-null  object\n",
      " 4   list_of_purchased  200780 non-null  object\n",
      "dtypes: int64(1), object(4)\n",
      "memory usage: 7.7+ MB\n"
     ]
    }
   ],
   "source": [
    "session_data.info()"
   ]
  },
  {
   "cell_type": "code",
   "execution_count": 42,
   "id": "83274637-1f8a-44eb-a48c-f0c810c1f8a6",
   "metadata": {},
   "outputs": [],
   "source": [
    "session_data = pd.merge(sd,session_data , how='left', on=['user_id',\"user_session\"])\n",
    "session_data = session_data.drop(columns=['event_type', 'duration_to_next_event',\"product_id\"])"
   ]
  },
  {
   "cell_type": "code",
   "execution_count": null,
   "id": "2e9474db-aae3-4c21-90e1-409e4e9da5a9",
   "metadata": {},
   "outputs": [],
   "source": [
    "session_data.head()"
   ]
  }
 ],
 "metadata": {
  "kernelspec": {
   "display_name": "Python 3 (ipykernel)",
   "language": "python",
   "name": "python3"
  },
  "language_info": {
   "codemirror_mode": {
    "name": "ipython",
    "version": 3
   },
   "file_extension": ".py",
   "mimetype": "text/x-python",
   "name": "python",
   "nbconvert_exporter": "python",
   "pygments_lexer": "ipython3",
   "version": "3.10.9"
  }
 },
 "nbformat": 4,
 "nbformat_minor": 5
}
